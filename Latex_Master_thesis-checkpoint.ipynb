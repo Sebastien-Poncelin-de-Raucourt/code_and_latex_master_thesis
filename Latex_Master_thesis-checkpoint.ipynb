{
 "cells": [
  {
   "cell_type": "code",
   "execution_count": 12,
   "id": "ed258c78-a9ba-428d-8fbd-56c7c74f24d8",
   "metadata": {
    "tags": []
   },
   "outputs": [
    {
     "data": {
      "text/latex": [
       "$\\displaystyle F_0 = S_0 \\cdot e^{rT}$"
      ],
      "text/plain": [
       "<IPython.core.display.Math object>"
      ]
     },
     "metadata": {},
     "output_type": "display_data"
    }
   ],
   "source": [
    "from IPython.display import display, Math\n",
    "\n",
    "# Forward price formula in LaTeX\n",
    "formula = r\"F_0 = S_0 \\cdot e^{rT}\"\n",
    "\n",
    "# Display the formula\n",
    "display(Math(formula))"
   ]
  },
  {
   "cell_type": "code",
   "execution_count": null,
   "id": "03e21713-74d7-4966-986c-6c590f3fbd9e",
   "metadata": {},
   "outputs": [],
   "source": []
  },
  {
   "cell_type": "code",
   "execution_count": null,
   "id": "091d4eba-f4e4-4f2a-977b-9d8c032c0c83",
   "metadata": {},
   "outputs": [],
   "source": []
  }
 ],
 "metadata": {
  "kernelspec": {
   "display_name": "Python 3 (ipykernel)",
   "language": "python",
   "name": "python3"
  },
  "language_info": {
   "codemirror_mode": {
    "name": "ipython",
    "version": 3
   },
   "file_extension": ".py",
   "mimetype": "text/x-python",
   "name": "python",
   "nbconvert_exporter": "python",
   "pygments_lexer": "ipython3",
   "version": "3.11.7"
  }
 },
 "nbformat": 4,
 "nbformat_minor": 5
}
