{
 "cells": [
  {
   "cell_type": "code",
   "execution_count": null,
   "id": "0873bdec-2de0-4e2b-9fbb-09f9ef6789c5",
   "metadata": {},
   "outputs": [],
   "source": [
    "This a notebook to store the Latex formulas, and maybe more codes we may use during our thesis"
   ]
  },
  {
   "cell_type": "code",
   "execution_count": 12,
   "id": "d9dffcd3-a7ec-4321-a119-2939ab746eea",
   "metadata": {
    "tags": []
   },
   "outputs": [
    {
     "data": {
      "text/latex": [
       "$\\displaystyle ZC = \\text{face_value} \\cdot e^{-rT}$"
      ],
      "text/plain": [
       "<IPython.core.display.Math object>"
      ]
     },
     "metadata": {},
     "output_type": "display_data"
    },
    {
     "data": {
      "text/latex": [
       "$\\displaystyle F_0 = S_0 \\cdot e^{rT}$"
      ],
      "text/plain": [
       "<IPython.core.display.Math object>"
      ]
     },
     "metadata": {},
     "output_type": "display_data"
    },
    {
     "data": {
      "text/latex": [
       "$\\displaystyle C = S_0 \\cdot N(d_1) - X \\cdot e^{-rT} \\cdot N(d_2)$"
      ],
      "text/plain": [
       "<IPython.core.display.Math object>"
      ]
     },
     "metadata": {},
     "output_type": "display_data"
    }
   ],
   "source": [
    "from IPython.display import display, Math\n",
    "\n",
    "# Zero-coupon bond price formula in LaTeX\n",
    "ZC_formula = r\"ZC = \\text{face_value} \\cdot e^{-rT}\"\n",
    "\n",
    "# Forward price formula in LaTeX\n",
    "forward_formula = r\"F_0 = S_0 \\cdot e^{rT}\"\n",
    "\n",
    "# Equity call option price formula in LaTeX (Black-Scholes model)\n",
    "equity_call_formula = r\"C = S_0 \\cdot N(d_1) - X \\cdot e^{-rT} \\cdot N(d_2)\"\n",
    "\n",
    "# Display the formulas\n",
    "display(Math(ZC_formula))\n",
    "display(Math(forward_formula))\n",
    "display(Math(equity_call_formula))"
   ]
  },
  {
   "cell_type": "code",
   "execution_count": null,
   "id": "ab960e74-ec2b-4cf3-b7e4-fa94604a8ca0",
   "metadata": {},
   "outputs": [],
   "source": []
  }
 ],
 "metadata": {
  "kernelspec": {
   "display_name": "Python 3 (ipykernel)",
   "language": "python",
   "name": "python3"
  },
  "language_info": {
   "codemirror_mode": {
    "name": "ipython",
    "version": 3
   },
   "file_extension": ".py",
   "mimetype": "text/x-python",
   "name": "python",
   "nbconvert_exporter": "python",
   "pygments_lexer": "ipython3",
   "version": "3.11.7"
  }
 },
 "nbformat": 4,
 "nbformat_minor": 5
}
