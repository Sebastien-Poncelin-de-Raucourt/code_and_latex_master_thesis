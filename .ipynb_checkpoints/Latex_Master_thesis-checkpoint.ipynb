{
 "cells": [
  {
   "cell_type": "code",
   "execution_count": 1,
   "id": "d9dffcd3-a7ec-4321-a119-2939ab746eea",
   "metadata": {
    "tags": []
   },
   "outputs": [
    {
     "data": {
      "text/latex": [
       "$\\displaystyle F_0 = S_0 \\cdot e^{rT}$"
      ],
      "text/plain": [
       "<IPython.core.display.Math object>"
      ]
     },
     "metadata": {},
     "output_type": "display_data"
    }
   ],
   "source": [
    "from IPython.display import display, Math\n",
    "\n",
    "# Forward price formula in LaTeX\n",
    "formula = r\"F_0 = S_0 \\cdot e^{rT}\"\n",
    "\n",
    "# Display the formula\n",
    "display(Math(formula))"
   ]
  },
  {
   "cell_type": "code",
   "execution_count": null,
   "id": "9a231761-23ca-489e-a8ff-5f37fbb29415",
   "metadata": {},
   "outputs": [],
   "source": [
    "hihihji"
   ]
  }
 ],
 "metadata": {
  "kernelspec": {
   "display_name": "Python 3 (ipykernel)",
   "language": "python",
   "name": "python3"
  },
  "language_info": {
   "codemirror_mode": {
    "name": "ipython",
    "version": 3
   },
   "file_extension": ".py",
   "mimetype": "text/x-python",
   "name": "python",
   "nbconvert_exporter": "python",
   "pygments_lexer": "ipython3",
   "version": "3.11.7"
  }
 },
 "nbformat": 4,
 "nbformat_minor": 5
}
